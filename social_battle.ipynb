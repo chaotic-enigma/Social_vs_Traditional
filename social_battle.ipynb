{
 "cells": [
  {
   "cell_type": "code",
   "execution_count": 1,
   "metadata": {},
   "outputs": [],
   "source": [
    "import pandas as pd\n",
    "from pandas.plotting import scatter_matrix\n",
    "import numpy as np\n",
    "import matplotlib.pyplot as plt\n",
    "%matplotlib inline\n",
    "from matplotlib import style\n",
    "style.use('fivethirtyeight')\n",
    "\n",
    "from sklearn.preprocessing import LabelEncoder"
   ]
  },
  {
   "cell_type": "code",
   "execution_count": 2,
   "metadata": {},
   "outputs": [],
   "source": [
    "df = pd.read_csv('responses.csv')"
   ]
  },
  {
   "cell_type": "code",
   "execution_count": 3,
   "metadata": {},
   "outputs": [],
   "source": [
    "columns = ['date', 'gender', 'age', 'education', 'occupation', 'family_income', 'residence', 'medium_social_traditional', \n",
    "              'traditional_media_device', 'social_media_sites', 'accounts_count', 'spending_hours', 'social_media_glance', 'addiction',\n",
    "              'most_attracted_media', 'purpose_using', 'usual_ranking', 'purchasing', 'product_purchase_type', 'brand_following',\n",
    "              'frequent_purchase_type', 'appealing_feature', 'feature_help_brand', 'info_search_feasibility', 'influence_try_new_brands',\n",
    "              'trusting_brand', 'comm_reliable', 'comm_credible', 'comm_attractive', 'comm_desirable', 'comm_memorable',\n",
    "              'imp_updates', 'decision_making', 'rele_info_purchase_preference', 'consumer_attention', 'imp_brand_build',\n",
    "              'response', 'ads_new_brands', 'promote_brands_aware', 'percept_position', 'target_audience', 'brand_avail_purchase',\n",
    "              'brand_engaging', 'feedback', 'recommed', 'suggestion']\n",
    "df.columns = columns"
   ]
  },
  {
   "cell_type": "code",
   "execution_count": 4,
   "metadata": {},
   "outputs": [],
   "source": [
    "def encode_decode(my_df, series_name, choice):\n",
    "    arr_name = np.array(list(my_df[str(series_name)]))\n",
    "    le = LabelEncoder()\n",
    "    enc_res = le.fit_transform(arr_name)\n",
    "    rev_res = le.inverse_transform(enc_res)\n",
    "    if choice == 0:\n",
    "        res = enc_res\n",
    "    if choice == 1:\n",
    "        res = rev_res\n",
    "    return res"
   ]
  },
  {
   "cell_type": "code",
   "execution_count": 5,
   "metadata": {},
   "outputs": [],
   "source": [
    "df.drop(columns=['suggestion'], axis=1, inplace=True)"
   ]
  },
  {
   "cell_type": "code",
   "execution_count": 6,
   "metadata": {},
   "outputs": [
    {
     "data": {
      "text/html": [
       "<div>\n",
       "<style scoped>\n",
       "    .dataframe tbody tr th:only-of-type {\n",
       "        vertical-align: middle;\n",
       "    }\n",
       "\n",
       "    .dataframe tbody tr th {\n",
       "        vertical-align: top;\n",
       "    }\n",
       "\n",
       "    .dataframe thead th {\n",
       "        text-align: right;\n",
       "    }\n",
       "</style>\n",
       "<table border=\"1\" class=\"dataframe\">\n",
       "  <thead>\n",
       "    <tr style=\"text-align: right;\">\n",
       "      <th></th>\n",
       "      <th>date</th>\n",
       "      <th>gender_1</th>\n",
       "      <th>age_2</th>\n",
       "      <th>education_3</th>\n",
       "      <th>occupation_4</th>\n",
       "      <th>family_income_5</th>\n",
       "      <th>residence_6</th>\n",
       "      <th>medium_social_traditional_7</th>\n",
       "      <th>traditional_media_device_8</th>\n",
       "      <th>social_media_sites_9</th>\n",
       "      <th>...</th>\n",
       "      <th>imp_brand_build_35</th>\n",
       "      <th>response_36</th>\n",
       "      <th>ads_new_brands_37</th>\n",
       "      <th>promote_brands_aware_38</th>\n",
       "      <th>percept_position_39</th>\n",
       "      <th>target_audience_40</th>\n",
       "      <th>brand_avail_purchase_41</th>\n",
       "      <th>brand_engaging_42</th>\n",
       "      <th>feedback_43</th>\n",
       "      <th>recommed_44</th>\n",
       "    </tr>\n",
       "  </thead>\n",
       "  <tbody>\n",
       "    <tr>\n",
       "      <td>0</td>\n",
       "      <td>2/22/2019 20:52:00</td>\n",
       "      <td>Female</td>\n",
       "      <td>36 - 40 years</td>\n",
       "      <td>Ph. D</td>\n",
       "      <td>Government Employee</td>\n",
       "      <td>10001 - 20000</td>\n",
       "      <td>Riyadh</td>\n",
       "      <td>Online Media (Social Media)</td>\n",
       "      <td>Television</td>\n",
       "      <td>Smart Phone</td>\n",
       "      <td>...</td>\n",
       "      <td>Agree</td>\n",
       "      <td>Agree</td>\n",
       "      <td>Strongly Agree</td>\n",
       "      <td>Strongly Agree</td>\n",
       "      <td>Strongly Agree</td>\n",
       "      <td>Strongly Agree</td>\n",
       "      <td>Strongly Agree</td>\n",
       "      <td>Strongly Agree</td>\n",
       "      <td>Yes</td>\n",
       "      <td>Yes</td>\n",
       "    </tr>\n",
       "    <tr>\n",
       "      <td>1</td>\n",
       "      <td>2/22/2019 20:53:45</td>\n",
       "      <td>Female</td>\n",
       "      <td>21 - 25 years</td>\n",
       "      <td>Under graduate</td>\n",
       "      <td>Businesswoman / Entrepreneur</td>\n",
       "      <td>40001 - 50000</td>\n",
       "      <td>Riyadh</td>\n",
       "      <td>Traditional Media (TV, Radio, Newspapers, Maga...</td>\n",
       "      <td>Television, Radio, Magzine, Newspaper</td>\n",
       "      <td>Smart Phone</td>\n",
       "      <td>...</td>\n",
       "      <td>Agree</td>\n",
       "      <td>Agree</td>\n",
       "      <td>Agree</td>\n",
       "      <td>Agree</td>\n",
       "      <td>Agree</td>\n",
       "      <td>Agree</td>\n",
       "      <td>Agree</td>\n",
       "      <td>Agree</td>\n",
       "      <td>Agree</td>\n",
       "      <td>Agree</td>\n",
       "    </tr>\n",
       "    <tr>\n",
       "      <td>2</td>\n",
       "      <td>2/23/2019 14:31:40</td>\n",
       "      <td>Female</td>\n",
       "      <td>21 - 25 years</td>\n",
       "      <td>Under graduate</td>\n",
       "      <td>Student</td>\n",
       "      <td>20001 - 30000</td>\n",
       "      <td>Tabuk</td>\n",
       "      <td>Online Media (Social Media)</td>\n",
       "      <td>Television</td>\n",
       "      <td>Smart Phone</td>\n",
       "      <td>...</td>\n",
       "      <td>Strongly Disagree</td>\n",
       "      <td>Neither Agree Nor Disagree</td>\n",
       "      <td>Neither Agree Nor Disagree</td>\n",
       "      <td>Strongly Agree</td>\n",
       "      <td>Strongly Disagree</td>\n",
       "      <td>Neither Agree Nor Disagree</td>\n",
       "      <td>Strongly Disagree</td>\n",
       "      <td>Neither Agree Nor Disagree</td>\n",
       "      <td>Yes</td>\n",
       "      <td>No</td>\n",
       "    </tr>\n",
       "    <tr>\n",
       "      <td>3</td>\n",
       "      <td>2/23/2019 14:35:28</td>\n",
       "      <td>Female</td>\n",
       "      <td>21 - 25 years</td>\n",
       "      <td>Under graduate</td>\n",
       "      <td>Student</td>\n",
       "      <td>10001 - 20000</td>\n",
       "      <td>Riyadh</td>\n",
       "      <td>Online Media (Social Media)</td>\n",
       "      <td>Television</td>\n",
       "      <td>Smart Phone</td>\n",
       "      <td>...</td>\n",
       "      <td>Strongly Agree</td>\n",
       "      <td>Agree</td>\n",
       "      <td>Strongly Agree</td>\n",
       "      <td>Strongly Disagree</td>\n",
       "      <td>Neither Agree Nor Disagree</td>\n",
       "      <td>Neither Agree Nor Disagree</td>\n",
       "      <td>Neither Agree Nor Disagree</td>\n",
       "      <td>Agree</td>\n",
       "      <td>No</td>\n",
       "      <td>Yes</td>\n",
       "    </tr>\n",
       "    <tr>\n",
       "      <td>4</td>\n",
       "      <td>2/23/2019 14:37:31</td>\n",
       "      <td>Female</td>\n",
       "      <td>21 - 25 years</td>\n",
       "      <td>Under graduate</td>\n",
       "      <td>Student</td>\n",
       "      <td>20001 - 30000</td>\n",
       "      <td>Tabuk</td>\n",
       "      <td>Online Media (Social Media)</td>\n",
       "      <td>Television</td>\n",
       "      <td>Smart Phone</td>\n",
       "      <td>...</td>\n",
       "      <td>Agree</td>\n",
       "      <td>Strongly Agree</td>\n",
       "      <td>Agree</td>\n",
       "      <td>Agree</td>\n",
       "      <td>Strongly Agree</td>\n",
       "      <td>Strongly Agree</td>\n",
       "      <td>Strongly Agree</td>\n",
       "      <td>Strongly Agree</td>\n",
       "      <td>Yes</td>\n",
       "      <td>Yes</td>\n",
       "    </tr>\n",
       "  </tbody>\n",
       "</table>\n",
       "<p>5 rows × 45 columns</p>\n",
       "</div>"
      ],
      "text/plain": [
       "                 date gender_1          age_2     education_3  \\\n",
       "0  2/22/2019 20:52:00   Female  36 - 40 years           Ph. D   \n",
       "1  2/22/2019 20:53:45   Female  21 - 25 years  Under graduate   \n",
       "2  2/23/2019 14:31:40   Female  21 - 25 years  Under graduate   \n",
       "3  2/23/2019 14:35:28   Female  21 - 25 years  Under graduate   \n",
       "4  2/23/2019 14:37:31   Female  21 - 25 years  Under graduate   \n",
       "\n",
       "                   occupation_4 family_income_5 residence_6  \\\n",
       "0           Government Employee   10001 - 20000      Riyadh   \n",
       "1  Businesswoman / Entrepreneur   40001 - 50000      Riyadh   \n",
       "2                       Student   20001 - 30000       Tabuk   \n",
       "3                       Student   10001 - 20000      Riyadh   \n",
       "4                       Student   20001 - 30000       Tabuk   \n",
       "\n",
       "                         medium_social_traditional_7  \\\n",
       "0                        Online Media (Social Media)   \n",
       "1  Traditional Media (TV, Radio, Newspapers, Maga...   \n",
       "2                        Online Media (Social Media)   \n",
       "3                        Online Media (Social Media)   \n",
       "4                        Online Media (Social Media)   \n",
       "\n",
       "              traditional_media_device_8 social_media_sites_9  ...  \\\n",
       "0                             Television          Smart Phone  ...   \n",
       "1  Television, Radio, Magzine, Newspaper          Smart Phone  ...   \n",
       "2                             Television          Smart Phone  ...   \n",
       "3                             Television          Smart Phone  ...   \n",
       "4                             Television          Smart Phone  ...   \n",
       "\n",
       "  imp_brand_build_35                 response_36           ads_new_brands_37  \\\n",
       "0              Agree                       Agree              Strongly Agree   \n",
       "1              Agree                       Agree                       Agree   \n",
       "2  Strongly Disagree  Neither Agree Nor Disagree  Neither Agree Nor Disagree   \n",
       "3     Strongly Agree                       Agree              Strongly Agree   \n",
       "4              Agree              Strongly Agree                       Agree   \n",
       "\n",
       "  promote_brands_aware_38         percept_position_39  \\\n",
       "0          Strongly Agree              Strongly Agree   \n",
       "1                   Agree                       Agree   \n",
       "2          Strongly Agree           Strongly Disagree   \n",
       "3       Strongly Disagree  Neither Agree Nor Disagree   \n",
       "4                   Agree              Strongly Agree   \n",
       "\n",
       "           target_audience_40     brand_avail_purchase_41  \\\n",
       "0              Strongly Agree              Strongly Agree   \n",
       "1                       Agree                       Agree   \n",
       "2  Neither Agree Nor Disagree           Strongly Disagree   \n",
       "3  Neither Agree Nor Disagree  Neither Agree Nor Disagree   \n",
       "4              Strongly Agree              Strongly Agree   \n",
       "\n",
       "            brand_engaging_42 feedback_43 recommed_44  \n",
       "0              Strongly Agree         Yes         Yes  \n",
       "1                       Agree       Agree       Agree  \n",
       "2  Neither Agree Nor Disagree         Yes          No  \n",
       "3                       Agree          No         Yes  \n",
       "4              Strongly Agree         Yes         Yes  \n",
       "\n",
       "[5 rows x 45 columns]"
      ]
     },
     "execution_count": 6,
     "metadata": {},
     "output_type": "execute_result"
    }
   ],
   "source": [
    "dummy_cols = ['date']\n",
    "orig_cols = list(df.columns)\n",
    "for col in range(len(orig_cols)):\n",
    "    if orig_cols[col] != 'date':\n",
    "        dummy_cols.append(str(orig_cols[col] + '_' + str(col)))\n",
    "df.columns = dummy_cols\n",
    "df.head()"
   ]
  },
  {
   "cell_type": "markdown",
   "metadata": {},
   "source": [
    "# H1: The increased usage of social media has resulted in completely avoiding the traditional media."
   ]
  },
  {
   "cell_type": "code",
   "execution_count": 7,
   "metadata": {},
   "outputs": [],
   "source": [
    "h1_df = df[['gender_1', 'age_2', 'medium_social_traditional_7', 'traditional_media_device_8', 'social_media_sites_9']]"
   ]
  },
  {
   "cell_type": "markdown",
   "metadata": {},
   "source": [
    "Let us consider the sample of the data where it focuses on the usage of which type of media.  "
   ]
  },
  {
   "cell_type": "code",
   "execution_count": 8,
   "metadata": {},
   "outputs": [
    {
     "data": {
      "text/html": [
       "<div>\n",
       "<style scoped>\n",
       "    .dataframe tbody tr th:only-of-type {\n",
       "        vertical-align: middle;\n",
       "    }\n",
       "\n",
       "    .dataframe tbody tr th {\n",
       "        vertical-align: top;\n",
       "    }\n",
       "\n",
       "    .dataframe thead th {\n",
       "        text-align: right;\n",
       "    }\n",
       "</style>\n",
       "<table border=\"1\" class=\"dataframe\">\n",
       "  <thead>\n",
       "    <tr style=\"text-align: right;\">\n",
       "      <th></th>\n",
       "      <th>count</th>\n",
       "    </tr>\n",
       "  </thead>\n",
       "  <tbody>\n",
       "    <tr>\n",
       "      <td>Social Media</td>\n",
       "      <td>133</td>\n",
       "    </tr>\n",
       "    <tr>\n",
       "      <td>Traditional Media</td>\n",
       "      <td>13</td>\n",
       "    </tr>\n",
       "  </tbody>\n",
       "</table>\n",
       "</div>"
      ],
      "text/plain": [
       "                   count\n",
       "Social Media         133\n",
       "Traditional Media     13"
      ]
     },
     "execution_count": 8,
     "metadata": {},
     "output_type": "execute_result"
    }
   ],
   "source": [
    "ST_media = h1_df['medium_social_traditional_7'].value_counts().to_frame()\n",
    "ST_media.reset_index(inplace=True)\n",
    "ST_media.columns = ['medium', 'count']\n",
    "ST_media.set_index('medium', inplace=True)\n",
    "ST_media.index = ['Social Media', 'Traditional Media']\n",
    "ST_media"
   ]
  },
  {
   "cell_type": "markdown",
   "metadata": {},
   "source": [
    "The above table shows that `Social Media` platform is heavily preferred than `Trditional Media`."
   ]
  },
  {
   "cell_type": "code",
   "execution_count": 9,
   "metadata": {},
   "outputs": [
    {
     "data": {
      "text/plain": [
       "<matplotlib.axes._subplots.AxesSubplot at 0x7f8e08fb1b90>"
      ]
     },
     "execution_count": 9,
     "metadata": {},
     "output_type": "execute_result"
    },
    {
     "data": {
      "image/png": "[encoded data removed]",
      "text/plain": [
       "<Figure size 720x360 with 1 Axes>"
      ]
     },
     "metadata": {
      "needs_background": "light"
     },
     "output_type": "display_data"
    }
   ],
   "source": [
    "ST_media.plot(kind='bar', figsize=(10, 5))"
   ]
  },
  {
   "cell_type": "markdown",
   "metadata": {},
   "source": [
    "This clearly shows that majority of the people use `Social Media` than `Traditional Media` which resulted in avoiding of the `Traditional Media`."
   ]
  },
  {
   "cell_type": "markdown",
   "metadata": {},
   "source": [
    "Let us highlight the habit of `Social Media` users if at all they want to use `Traditional Media`, which medium they will prefer the most."
   ]
  },
  {
   "cell_type": "code",
   "execution_count": 10,
   "metadata": {},
   "outputs": [
    {
     "data": {
      "text/html": [
       "<div>\n",
       "<style scoped>\n",
       "    .dataframe tbody tr th:only-of-type {\n",
       "        vertical-align: middle;\n",
       "    }\n",
       "\n",
       "    .dataframe tbody tr th {\n",
       "        vertical-align: top;\n",
       "    }\n",
       "\n",
       "    .dataframe thead th {\n",
       "        text-align: right;\n",
       "    }\n",
       "</style>\n",
       "<table border=\"1\" class=\"dataframe\">\n",
       "  <thead>\n",
       "    <tr style=\"text-align: right;\">\n",
       "      <th></th>\n",
       "      <th>count</th>\n",
       "    </tr>\n",
       "  </thead>\n",
       "  <tbody>\n",
       "    <tr>\n",
       "      <td>T</td>\n",
       "      <td>115</td>\n",
       "    </tr>\n",
       "    <tr>\n",
       "      <td>R</td>\n",
       "      <td>5</td>\n",
       "    </tr>\n",
       "    <tr>\n",
       "      <td>TRN</td>\n",
       "      <td>3</td>\n",
       "    </tr>\n",
       "    <tr>\n",
       "      <td>N</td>\n",
       "      <td>3</td>\n",
       "    </tr>\n",
       "    <tr>\n",
       "      <td>TR</td>\n",
       "      <td>3</td>\n",
       "    </tr>\n",
       "    <tr>\n",
       "      <td>TN</td>\n",
       "      <td>2</td>\n",
       "    </tr>\n",
       "    <tr>\n",
       "      <td>TM</td>\n",
       "      <td>2</td>\n",
       "    </tr>\n",
       "  </tbody>\n",
       "</table>\n",
       "</div>"
      ],
      "text/plain": [
       "     count\n",
       "T      115\n",
       "R        5\n",
       "TRN      3\n",
       "N        3\n",
       "TR       3\n",
       "TN       2\n",
       "TM       2"
      ]
     },
     "execution_count": 10,
     "metadata": {},
     "output_type": "execute_result"
    }
   ],
   "source": [
    "SM = h1_df[h1_df['medium_social_traditional_7'] == 'Online Media (Social Media)']\n",
    "STM = SM['traditional_media_device_8'].value_counts().to_frame()\n",
    "STM.reset_index(inplace=True)\n",
    "STM.columns = ['medium', 'count']\n",
    "STM.set_index('medium', inplace=True)\n",
    "STM.index = ['T', 'R', 'TRN', 'N', 'TR', 'TN', 'TM']\n",
    "STM"
   ]
  },
  {
   "cell_type": "markdown",
   "metadata": {},
   "source": [
    "The above table shows the `Traditional Media` medium for the users who had preferred `Social Media`."
   ]
  },
  {
   "cell_type": "code",
   "execution_count": 11,
   "metadata": {},
   "outputs": [
    {
     "data": {
      "text/plain": [
       "<matplotlib.axes._subplots.AxesSubplot at 0x7f8e056ad590>"
      ]
     },
     "execution_count": 11,
     "metadata": {},
     "output_type": "execute_result"
    },
    {
     "data": {
      "image/png": "[encoded data removed]",
      "text/plain": [
       "<Figure size 720x360 with 1 Axes>"
      ]
     },
     "metadata": {
      "needs_background": "light"
     },
     "output_type": "display_data"
    }
   ],
   "source": [
    "STM.plot(kind='bar', figsize=(10, 5))"
   ]
  },
  {
   "cell_type": "markdown",
   "metadata": {},
   "source": [
    "Hence we can conclude that `Social Media` users perfer `Television` medium for using `Traditional Media`. And very less `Social Media` users use `Television Magazine`."
   ]
  },
  {
   "cell_type": "code",
   "execution_count": 12,
   "metadata": {},
   "outputs": [
    {
     "data": {
      "text/html": [
       "<div>\n",
       "<style scoped>\n",
       "    .dataframe tbody tr th:only-of-type {\n",
       "        vertical-align: middle;\n",
       "    }\n",
       "\n",
       "    .dataframe tbody tr th {\n",
       "        vertical-align: top;\n",
       "    }\n",
       "\n",
       "    .dataframe thead th {\n",
       "        text-align: right;\n",
       "    }\n",
       "</style>\n",
       "<table border=\"1\" class=\"dataframe\">\n",
       "  <thead>\n",
       "    <tr style=\"text-align: right;\">\n",
       "      <th></th>\n",
       "      <th>age</th>\n",
       "      <th>count</th>\n",
       "    </tr>\n",
       "  </thead>\n",
       "  <tbody>\n",
       "    <tr>\n",
       "      <td>0</td>\n",
       "      <td>21 - 25 years</td>\n",
       "      <td>5</td>\n",
       "    </tr>\n",
       "    <tr>\n",
       "      <td>1</td>\n",
       "      <td>31 - 35 years</td>\n",
       "      <td>4</td>\n",
       "    </tr>\n",
       "    <tr>\n",
       "      <td>2</td>\n",
       "      <td>26 - 30 years</td>\n",
       "      <td>2</td>\n",
       "    </tr>\n",
       "    <tr>\n",
       "      <td>3</td>\n",
       "      <td>Below 21 years</td>\n",
       "      <td>2</td>\n",
       "    </tr>\n",
       "  </tbody>\n",
       "</table>\n",
       "</div>"
      ],
      "text/plain": [
       "              age  count\n",
       "0   21 - 25 years      5\n",
       "1   31 - 35 years      4\n",
       "2   26 - 30 years      2\n",
       "3  Below 21 years      2"
      ]
     },
     "execution_count": 12,
     "metadata": {},
     "output_type": "execute_result"
    }
   ],
   "source": [
    "TM_alone = h1_df[h1_df['medium_social_traditional_7'] != 'Online Media (Social Media)']\n",
    "TM_age_grps = TM_alone['age_2'].value_counts().to_frame()\n",
    "TM_age_grps.reset_index(inplace=True)\n",
    "TM_age_grps.columns = ['age', 'count']\n",
    "TM_age_grps"
   ]
  },
  {
   "cell_type": "markdown",
   "metadata": {},
   "source": [
    "The above table shows the age groups of the people who use `Traditional Media` other than `Social Media`. There are totally `5` women in the age group of `21 - 25 years`. On the whole, there are `13` women who prefer `Traditional Media`."
   ]
  },
  {
   "cell_type": "markdown",
   "metadata": {},
   "source": [
    "**Conclusion:**\n",
    "\n",
    "From the above results we can say that\n",
    "1. Majority of the people prefer to use `Social Media` than `Traditional Media` and there are very few who prefer `Traditional Media` alone.\n",
    "2. There are also people who use not only use `Social Media` but also use `Traditional Media`. After sampling we have found that majority of the `Social Media` users prefer `Television` as their medium.\n",
    "\n",
    "Hence we can conclude that the increased usage of social media has **majorly** resulted in avoiding the traditional media"
   ]
  },
  {
   "cell_type": "code",
   "execution_count": null,
   "metadata": {},
   "outputs": [],
   "source": []
  }
 ],
 "metadata": {
  "kernelspec": {
   "display_name": "Python 3",
   "language": "python",
   "name": "python3"
  },
  "language_info": {
   "codemirror_mode": {
    "name": "ipython",
    "version": 3
   },
   "file_extension": ".py",
   "mimetype": "text/x-python",
   "name": "python",
   "nbconvert_exporter": "python",
   "pygments_lexer": "ipython3",
   "version": "3.7.4"
  }
 },
 "nbformat": 4,
 "nbformat_minor": 2
}
